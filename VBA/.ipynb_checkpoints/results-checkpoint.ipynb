{
 "cells": [
  {
   "cell_type": "code",
   "execution_count": 1,
   "id": "d56a1d54",
   "metadata": {},
   "outputs": [],
   "source": [
    "import numpy as np\n",
    "import pandas as pd\n",
    "from individual_fairness import iFairscore\n",
    "from pyod.utils.data import evaluate_print"
   ]
  },
  {
   "cell_type": "code",
   "execution_count": 2,
   "id": "864d0b2e",
   "metadata": {},
   "outputs": [
    {
     "name": "stdout",
     "output_type": "stream",
     "text": [
      "(913, 49)\n"
     ]
    },
    {
     "data": {
      "text/html": [
       "<div>\n",
       "<style scoped>\n",
       "    .dataframe tbody tr th:only-of-type {\n",
       "        vertical-align: middle;\n",
       "    }\n",
       "\n",
       "    .dataframe tbody tr th {\n",
       "        vertical-align: top;\n",
       "    }\n",
       "\n",
       "    .dataframe thead th {\n",
       "        text-align: right;\n",
       "    }\n",
       "</style>\n",
       "<table border=\"1\" class=\"dataframe\">\n",
       "  <thead>\n",
       "    <tr style=\"text-align: right;\">\n",
       "      <th></th>\n",
       "      <th>AGE</th>\n",
       "      <th>S1</th>\n",
       "      <th>S2</th>\n",
       "      <th>PhD</th>\n",
       "      <th>YEARSEXP</th>\n",
       "      <th>S3</th>\n",
       "      <th>PU1</th>\n",
       "      <th>PU2</th>\n",
       "      <th>PU3</th>\n",
       "      <th>PEU1</th>\n",
       "      <th>...</th>\n",
       "      <th>BI2</th>\n",
       "      <th>Inc1</th>\n",
       "      <th>Inc2</th>\n",
       "      <th>Inc3</th>\n",
       "      <th>Inc4</th>\n",
       "      <th>Exp1</th>\n",
       "      <th>Exp2</th>\n",
       "      <th>Exp3</th>\n",
       "      <th>Exp4</th>\n",
       "      <th>Exp5</th>\n",
       "    </tr>\n",
       "  </thead>\n",
       "  <tbody>\n",
       "    <tr>\n",
       "      <th>0</th>\n",
       "      <td>40</td>\n",
       "      <td>0</td>\n",
       "      <td>2</td>\n",
       "      <td>1</td>\n",
       "      <td>14</td>\n",
       "      <td>1</td>\n",
       "      <td>4</td>\n",
       "      <td>4</td>\n",
       "      <td>3</td>\n",
       "      <td>5</td>\n",
       "      <td>...</td>\n",
       "      <td>3</td>\n",
       "      <td>5</td>\n",
       "      <td>5</td>\n",
       "      <td>5</td>\n",
       "      <td>5</td>\n",
       "      <td>4</td>\n",
       "      <td>4</td>\n",
       "      <td>4</td>\n",
       "      <td>1</td>\n",
       "      <td>2</td>\n",
       "    </tr>\n",
       "    <tr>\n",
       "      <th>1</th>\n",
       "      <td>42</td>\n",
       "      <td>0</td>\n",
       "      <td>5</td>\n",
       "      <td>1</td>\n",
       "      <td>18</td>\n",
       "      <td>1</td>\n",
       "      <td>2</td>\n",
       "      <td>3</td>\n",
       "      <td>3</td>\n",
       "      <td>4</td>\n",
       "      <td>...</td>\n",
       "      <td>2</td>\n",
       "      <td>4</td>\n",
       "      <td>4</td>\n",
       "      <td>3</td>\n",
       "      <td>4</td>\n",
       "      <td>2</td>\n",
       "      <td>2</td>\n",
       "      <td>4</td>\n",
       "      <td>2</td>\n",
       "      <td>4</td>\n",
       "    </tr>\n",
       "    <tr>\n",
       "      <th>2</th>\n",
       "      <td>37</td>\n",
       "      <td>0</td>\n",
       "      <td>4</td>\n",
       "      <td>1</td>\n",
       "      <td>13</td>\n",
       "      <td>1</td>\n",
       "      <td>2</td>\n",
       "      <td>2</td>\n",
       "      <td>2</td>\n",
       "      <td>4</td>\n",
       "      <td>...</td>\n",
       "      <td>1</td>\n",
       "      <td>5</td>\n",
       "      <td>3</td>\n",
       "      <td>5</td>\n",
       "      <td>5</td>\n",
       "      <td>2</td>\n",
       "      <td>2</td>\n",
       "      <td>2</td>\n",
       "      <td>1</td>\n",
       "      <td>3</td>\n",
       "    </tr>\n",
       "    <tr>\n",
       "      <th>3</th>\n",
       "      <td>40</td>\n",
       "      <td>0</td>\n",
       "      <td>4</td>\n",
       "      <td>0</td>\n",
       "      <td>13</td>\n",
       "      <td>1</td>\n",
       "      <td>3</td>\n",
       "      <td>3</td>\n",
       "      <td>4</td>\n",
       "      <td>3</td>\n",
       "      <td>...</td>\n",
       "      <td>3</td>\n",
       "      <td>3</td>\n",
       "      <td>4</td>\n",
       "      <td>4</td>\n",
       "      <td>3</td>\n",
       "      <td>4</td>\n",
       "      <td>4</td>\n",
       "      <td>3</td>\n",
       "      <td>3</td>\n",
       "      <td>4</td>\n",
       "    </tr>\n",
       "    <tr>\n",
       "      <th>4</th>\n",
       "      <td>51</td>\n",
       "      <td>0</td>\n",
       "      <td>0</td>\n",
       "      <td>0</td>\n",
       "      <td>8</td>\n",
       "      <td>1</td>\n",
       "      <td>4</td>\n",
       "      <td>3</td>\n",
       "      <td>5</td>\n",
       "      <td>5</td>\n",
       "      <td>...</td>\n",
       "      <td>5</td>\n",
       "      <td>5</td>\n",
       "      <td>5</td>\n",
       "      <td>4</td>\n",
       "      <td>4</td>\n",
       "      <td>5</td>\n",
       "      <td>5</td>\n",
       "      <td>5</td>\n",
       "      <td>4</td>\n",
       "      <td>4</td>\n",
       "    </tr>\n",
       "  </tbody>\n",
       "</table>\n",
       "<p>5 rows × 49 columns</p>\n",
       "</div>"
      ],
      "text/plain": [
       "   AGE  S1  S2  PhD  YEARSEXP  S3  PU1  PU2  PU3  PEU1  ...  BI2  Inc1  Inc2  \\\n",
       "0   40   0   2    1        14   1    4    4    3     5  ...    3     5     5   \n",
       "1   42   0   5    1        18   1    2    3    3     4  ...    2     4     4   \n",
       "2   37   0   4    1        13   1    2    2    2     4  ...    1     5     3   \n",
       "3   40   0   4    0        13   1    3    3    4     3  ...    3     3     4   \n",
       "4   51   0   0    0         8   1    4    3    5     5  ...    5     5     5   \n",
       "\n",
       "   Inc3  Inc4  Exp1  Exp2  Exp3  Exp4  Exp5  \n",
       "0     5     5     4     4     4     1     2  \n",
       "1     3     4     2     2     4     2     4  \n",
       "2     5     5     2     2     2     1     3  \n",
       "3     4     3     4     4     3     3     4  \n",
       "4     4     4     5     5     5     4     4  \n",
       "\n",
       "[5 rows x 49 columns]"
      ]
     },
     "execution_count": 2,
     "metadata": {},
     "output_type": "execute_result"
    }
   ],
   "source": [
    "# load data\n",
    "df=pd.read_csv('/Users/Gargi/Desktop/RESEARCH/DATA/Wiki4HE.csv')\n",
    "T=df['Class'].replace(['inlier', 'outlier'], [0, 1], inplace=False)\n",
    "df.drop('Class', axis=1, inplace=True)\n",
    "print(df.shape)\n",
    "df.head()"
   ]
  },
  {
   "cell_type": "code",
   "execution_count": 3,
   "id": "a39cb424",
   "metadata": {},
   "outputs": [
    {
     "data": {
      "text/html": [
       "<div>\n",
       "<style scoped>\n",
       "    .dataframe tbody tr th:only-of-type {\n",
       "        vertical-align: middle;\n",
       "    }\n",
       "\n",
       "    .dataframe tbody tr th {\n",
       "        vertical-align: top;\n",
       "    }\n",
       "\n",
       "    .dataframe thead th {\n",
       "        text-align: right;\n",
       "    }\n",
       "</style>\n",
       "<table border=\"1\" class=\"dataframe\">\n",
       "  <thead>\n",
       "    <tr style=\"text-align: right;\">\n",
       "      <th></th>\n",
       "      <th>V</th>\n",
       "      <th>VA1</th>\n",
       "      <th>VA2</th>\n",
       "      <th>B</th>\n",
       "      <th>BA1</th>\n",
       "      <th>BA2</th>\n",
       "    </tr>\n",
       "  </thead>\n",
       "  <tbody>\n",
       "    <tr>\n",
       "      <th>0</th>\n",
       "      <td>0.206459</td>\n",
       "      <td>0.202504</td>\n",
       "      <td>0.202504</td>\n",
       "      <td>0.239775</td>\n",
       "      <td>0.202504</td>\n",
       "      <td>0.202504</td>\n",
       "    </tr>\n",
       "    <tr>\n",
       "      <th>1</th>\n",
       "      <td>0.221585</td>\n",
       "      <td>0.203133</td>\n",
       "      <td>0.203133</td>\n",
       "      <td>0.342045</td>\n",
       "      <td>0.203133</td>\n",
       "      <td>0.203133</td>\n",
       "    </tr>\n",
       "    <tr>\n",
       "      <th>2</th>\n",
       "      <td>0.426062</td>\n",
       "      <td>0.416876</td>\n",
       "      <td>0.416876</td>\n",
       "      <td>0.429328</td>\n",
       "      <td>0.416876</td>\n",
       "      <td>0.416876</td>\n",
       "    </tr>\n",
       "    <tr>\n",
       "      <th>3</th>\n",
       "      <td>0.224493</td>\n",
       "      <td>0.212877</td>\n",
       "      <td>0.212877</td>\n",
       "      <td>0.271774</td>\n",
       "      <td>0.212877</td>\n",
       "      <td>0.212877</td>\n",
       "    </tr>\n",
       "    <tr>\n",
       "      <th>4</th>\n",
       "      <td>0.433225</td>\n",
       "      <td>0.475168</td>\n",
       "      <td>0.475168</td>\n",
       "      <td>0.415518</td>\n",
       "      <td>0.475168</td>\n",
       "      <td>0.475168</td>\n",
       "    </tr>\n",
       "  </tbody>\n",
       "</table>\n",
       "</div>"
      ],
      "text/plain": [
       "          V       VA1       VA2         B       BA1       BA2\n",
       "0  0.206459  0.202504  0.202504  0.239775  0.202504  0.202504\n",
       "1  0.221585  0.203133  0.203133  0.342045  0.203133  0.203133\n",
       "2  0.426062  0.416876  0.416876  0.429328  0.416876  0.416876\n",
       "3  0.224493  0.212877  0.212877  0.271774  0.212877  0.212877\n",
       "4  0.433225  0.475168  0.475168  0.415518  0.475168  0.475168"
      ]
     },
     "execution_count": 3,
     "metadata": {},
     "output_type": "execute_result"
    }
   ],
   "source": [
    "df1=pd.read_csv('/Users/Gargi/Desktop/RESEARCH/VBA\\VBA_DATA_FINAL/WIKI4HE.csv')\n",
    "Scores=df1.transpose()\n",
    "X=Scores.to_numpy()\n",
    "df1.head()"
   ]
  },
  {
   "cell_type": "code",
   "execution_count": 4,
   "id": "84363387",
   "metadata": {},
   "outputs": [
    {
     "name": "stdout",
     "output_type": "stream",
     "text": [
      "IF ROC:0.5991, precision @ rank n:0.208\n"
     ]
    },
    {
     "data": {
      "text/plain": [
       "287.68780455485376"
      ]
     },
     "execution_count": 4,
     "metadata": {},
     "output_type": "execute_result"
    }
   ],
   "source": [
    "evaluate_print(\"IF\", T, X[0])\n",
    "iFairscore(X[0], df)"
   ]
  },
  {
   "cell_type": "code",
   "execution_count": 5,
   "id": "9ebbbe67",
   "metadata": {},
   "outputs": [
    {
     "name": "stdout",
     "output_type": "stream",
     "text": [
      "IF ROC:0.6001, precision @ rank n:0.2\n"
     ]
    },
    {
     "data": {
      "text/plain": [
       "287.6769930898142"
      ]
     },
     "execution_count": 5,
     "metadata": {},
     "output_type": "execute_result"
    }
   ],
   "source": [
    "evaluate_print(\"IF\", T, X[1])\n",
    "iFairscore(X[1], df)"
   ]
  },
  {
   "cell_type": "code",
   "execution_count": 6,
   "id": "811374ab",
   "metadata": {},
   "outputs": [
    {
     "name": "stdout",
     "output_type": "stream",
     "text": [
      "IF ROC:0.6001, precision @ rank n:0.2\n"
     ]
    },
    {
     "data": {
      "text/plain": [
       "287.6769930898142"
      ]
     },
     "execution_count": 6,
     "metadata": {},
     "output_type": "execute_result"
    }
   ],
   "source": [
    "evaluate_print(\"IF\", T, X[2])\n",
    "iFairscore(X[2], df)"
   ]
  },
  {
   "cell_type": "code",
   "execution_count": 7,
   "id": "ca5a4a27",
   "metadata": {},
   "outputs": [
    {
     "name": "stdout",
     "output_type": "stream",
     "text": [
      "IF ROC:0.5887, precision @ rank n:0.192\n"
     ]
    },
    {
     "data": {
      "text/plain": [
       "287.684595617027"
      ]
     },
     "execution_count": 7,
     "metadata": {},
     "output_type": "execute_result"
    }
   ],
   "source": [
    "evaluate_print(\"IF\", T, X[3])\n",
    "iFairscore(X[3], df)"
   ]
  },
  {
   "cell_type": "code",
   "execution_count": 8,
   "id": "780f372c",
   "metadata": {},
   "outputs": [
    {
     "name": "stdout",
     "output_type": "stream",
     "text": [
      "IF ROC:0.6001, precision @ rank n:0.2\n"
     ]
    },
    {
     "data": {
      "text/plain": [
       "287.6769930898142"
      ]
     },
     "execution_count": 8,
     "metadata": {},
     "output_type": "execute_result"
    }
   ],
   "source": [
    "evaluate_print(\"IF\", T, X[4])\n",
    "iFairscore(X[4], df)"
   ]
  },
  {
   "cell_type": "code",
   "execution_count": 9,
   "id": "1b8488ae",
   "metadata": {},
   "outputs": [
    {
     "name": "stdout",
     "output_type": "stream",
     "text": [
      "IF ROC:0.6001, precision @ rank n:0.2\n"
     ]
    },
    {
     "data": {
      "text/plain": [
       "287.6769930898142"
      ]
     },
     "execution_count": 9,
     "metadata": {},
     "output_type": "execute_result"
    }
   ],
   "source": [
    "evaluate_print(\"IF\", T, X[5])\n",
    "iFairscore(X[5], df)"
   ]
  },
  {
   "cell_type": "code",
   "execution_count": null,
   "id": "0d2f2040",
   "metadata": {},
   "outputs": [],
   "source": []
  }
 ],
 "metadata": {
  "kernelspec": {
   "display_name": "Python 3 (ipykernel)",
   "language": "python",
   "name": "python3"
  },
  "language_info": {
   "codemirror_mode": {
    "name": "ipython",
    "version": 3
   },
   "file_extension": ".py",
   "mimetype": "text/x-python",
   "name": "python",
   "nbconvert_exporter": "python",
   "pygments_lexer": "ipython3",
   "version": "3.8.13"
  }
 },
 "nbformat": 4,
 "nbformat_minor": 5
}
