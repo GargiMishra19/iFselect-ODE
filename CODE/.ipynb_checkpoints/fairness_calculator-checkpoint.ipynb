{
 "cells": [
  {
   "cell_type": "code",
   "execution_count": 1,
   "id": "d480180e",
   "metadata": {},
   "outputs": [],
   "source": [
    "from __future__ import division\n",
    "import numpy as np\n",
    "import pandas as pd\n",
    "from group_fairness import gFairscore\n",
    "from individual_fairness import iFairscore\n",
    "from pyod.utils.data import evaluate_print"
   ]
  },
  {
   "cell_type": "code",
   "execution_count": 2,
   "id": "885ec87e",
   "metadata": {},
   "outputs": [
    {
     "name": "stdout",
     "output_type": "stream",
     "text": [
      "(1966, 1556)\n"
     ]
    },
    {
     "data": {
      "text/html": [
       "<div>\n",
       "<style scoped>\n",
       "    .dataframe tbody tr th:only-of-type {\n",
       "        vertical-align: middle;\n",
       "    }\n",
       "\n",
       "    .dataframe tbody tr th {\n",
       "        vertical-align: top;\n",
       "    }\n",
       "\n",
       "    .dataframe thead th {\n",
       "        text-align: right;\n",
       "    }\n",
       "</style>\n",
       "<table border=\"1\" class=\"dataframe\">\n",
       "  <thead>\n",
       "    <tr style=\"text-align: right;\">\n",
       "      <th></th>\n",
       "      <th>V1</th>\n",
       "      <th>V2</th>\n",
       "      <th>V3</th>\n",
       "      <th>V4</th>\n",
       "      <th>V5</th>\n",
       "      <th>V6</th>\n",
       "      <th>V7</th>\n",
       "      <th>V8</th>\n",
       "      <th>V9</th>\n",
       "      <th>V10</th>\n",
       "      <th>...</th>\n",
       "      <th>V1547</th>\n",
       "      <th>V1548</th>\n",
       "      <th>V1549</th>\n",
       "      <th>V1550</th>\n",
       "      <th>V1551</th>\n",
       "      <th>V1552</th>\n",
       "      <th>V1553</th>\n",
       "      <th>V1554</th>\n",
       "      <th>V1555</th>\n",
       "      <th>Class</th>\n",
       "    </tr>\n",
       "  </thead>\n",
       "  <tbody>\n",
       "    <tr>\n",
       "      <th>0</th>\n",
       "      <td>1</td>\n",
       "      <td>0</td>\n",
       "      <td>0</td>\n",
       "      <td>0</td>\n",
       "      <td>0</td>\n",
       "      <td>0</td>\n",
       "      <td>0</td>\n",
       "      <td>0</td>\n",
       "      <td>0</td>\n",
       "      <td>0</td>\n",
       "      <td>...</td>\n",
       "      <td>0</td>\n",
       "      <td>0</td>\n",
       "      <td>0</td>\n",
       "      <td>0</td>\n",
       "      <td>0</td>\n",
       "      <td>0</td>\n",
       "      <td>0</td>\n",
       "      <td>0</td>\n",
       "      <td>0</td>\n",
       "      <td>outlier</td>\n",
       "    </tr>\n",
       "    <tr>\n",
       "      <th>1</th>\n",
       "      <td>1</td>\n",
       "      <td>0</td>\n",
       "      <td>0</td>\n",
       "      <td>0</td>\n",
       "      <td>0</td>\n",
       "      <td>0</td>\n",
       "      <td>0</td>\n",
       "      <td>0</td>\n",
       "      <td>0</td>\n",
       "      <td>0</td>\n",
       "      <td>...</td>\n",
       "      <td>0</td>\n",
       "      <td>0</td>\n",
       "      <td>0</td>\n",
       "      <td>0</td>\n",
       "      <td>0</td>\n",
       "      <td>0</td>\n",
       "      <td>0</td>\n",
       "      <td>0</td>\n",
       "      <td>0</td>\n",
       "      <td>outlier</td>\n",
       "    </tr>\n",
       "    <tr>\n",
       "      <th>2</th>\n",
       "      <td>1</td>\n",
       "      <td>0</td>\n",
       "      <td>0</td>\n",
       "      <td>0</td>\n",
       "      <td>0</td>\n",
       "      <td>0</td>\n",
       "      <td>0</td>\n",
       "      <td>0</td>\n",
       "      <td>0</td>\n",
       "      <td>0</td>\n",
       "      <td>...</td>\n",
       "      <td>0</td>\n",
       "      <td>0</td>\n",
       "      <td>0</td>\n",
       "      <td>0</td>\n",
       "      <td>0</td>\n",
       "      <td>0</td>\n",
       "      <td>0</td>\n",
       "      <td>0</td>\n",
       "      <td>0</td>\n",
       "      <td>outlier</td>\n",
       "    </tr>\n",
       "    <tr>\n",
       "      <th>3</th>\n",
       "      <td>1</td>\n",
       "      <td>0</td>\n",
       "      <td>0</td>\n",
       "      <td>0</td>\n",
       "      <td>0</td>\n",
       "      <td>0</td>\n",
       "      <td>0</td>\n",
       "      <td>0</td>\n",
       "      <td>0</td>\n",
       "      <td>0</td>\n",
       "      <td>...</td>\n",
       "      <td>0</td>\n",
       "      <td>0</td>\n",
       "      <td>0</td>\n",
       "      <td>0</td>\n",
       "      <td>0</td>\n",
       "      <td>0</td>\n",
       "      <td>0</td>\n",
       "      <td>0</td>\n",
       "      <td>0</td>\n",
       "      <td>outlier</td>\n",
       "    </tr>\n",
       "    <tr>\n",
       "      <th>4</th>\n",
       "      <td>1</td>\n",
       "      <td>0</td>\n",
       "      <td>0</td>\n",
       "      <td>0</td>\n",
       "      <td>0</td>\n",
       "      <td>0</td>\n",
       "      <td>0</td>\n",
       "      <td>0</td>\n",
       "      <td>0</td>\n",
       "      <td>0</td>\n",
       "      <td>...</td>\n",
       "      <td>0</td>\n",
       "      <td>0</td>\n",
       "      <td>0</td>\n",
       "      <td>0</td>\n",
       "      <td>0</td>\n",
       "      <td>0</td>\n",
       "      <td>0</td>\n",
       "      <td>0</td>\n",
       "      <td>0</td>\n",
       "      <td>outlier</td>\n",
       "    </tr>\n",
       "  </tbody>\n",
       "</table>\n",
       "<p>5 rows × 1556 columns</p>\n",
       "</div>"
      ],
      "text/plain": [
       "   V1  V2  V3  V4  V5  V6  V7  V8  V9  V10  ...  V1547  V1548  V1549  V1550  \\\n",
       "0   1   0   0   0   0   0   0   0   0    0  ...      0      0      0      0   \n",
       "1   1   0   0   0   0   0   0   0   0    0  ...      0      0      0      0   \n",
       "2   1   0   0   0   0   0   0   0   0    0  ...      0      0      0      0   \n",
       "3   1   0   0   0   0   0   0   0   0    0  ...      0      0      0      0   \n",
       "4   1   0   0   0   0   0   0   0   0    0  ...      0      0      0      0   \n",
       "\n",
       "   V1551  V1552  V1553  V1554  V1555    Class  \n",
       "0      0      0      0      0      0  outlier  \n",
       "1      0      0      0      0      0  outlier  \n",
       "2      0      0      0      0      0  outlier  \n",
       "3      0      0      0      0      0  outlier  \n",
       "4      0      0      0      0      0  outlier  \n",
       "\n",
       "[5 rows x 1556 columns]"
      ]
     },
     "execution_count": 2,
     "metadata": {},
     "output_type": "execute_result"
    }
   ],
   "source": [
    "# load data\n",
    "df=pd.read_csv('/Users/Gargi/Desktop/RESEARCH/DATA/InternetAds.csv')\n",
    "print(df.shape)\n",
    "df.head()"
   ]
  },
  {
   "cell_type": "code",
   "execution_count": 3,
   "id": "fab217c8",
   "metadata": {},
   "outputs": [
    {
     "data": {
      "text/plain": [
       "[]"
      ]
     },
     "execution_count": 3,
     "metadata": {},
     "output_type": "execute_result"
    }
   ],
   "source": [
    "# Collecting sensitive attributes and Target\n",
    "col=list(df.columns)\n",
    "S_l=[]\n",
    "s=[]\n",
    "j=1\n",
    "for i in range(0,len(col)):\n",
    "    if df.columns[i]=='S' + str(j):\n",
    "        S_l.append('S' + str(j))\n",
    "        j+=1\n",
    "        s.append(i)\n",
    "S_d=df[S_l]\n",
    "S=S_d.to_numpy()\n",
    "\n",
    "T=df['Class'].replace(['inlier', 'outlier'], [0, 1], inplace=False)\n",
    "S_l"
   ]
  },
  {
   "cell_type": "code",
   "execution_count": 4,
   "id": "6c06ef91",
   "metadata": {},
   "outputs": [
    {
     "data": {
      "text/plain": [
       "(1966, 1555)"
      ]
     },
     "execution_count": 4,
     "metadata": {},
     "output_type": "execute_result"
    }
   ],
   "source": [
    "df_ns=df\n",
    "S_l.append('Class')\n",
    "df_ns.drop(S_l, axis=1, inplace=True)\n",
    "df_ns.shape"
   ]
  },
  {
   "cell_type": "code",
   "execution_count": 5,
   "id": "1fa7f4e2",
   "metadata": {},
   "outputs": [
    {
     "data": {
      "text/html": [
       "<div>\n",
       "<style scoped>\n",
       "    .dataframe tbody tr th:only-of-type {\n",
       "        vertical-align: middle;\n",
       "    }\n",
       "\n",
       "    .dataframe tbody tr th {\n",
       "        vertical-align: top;\n",
       "    }\n",
       "\n",
       "    .dataframe thead th {\n",
       "        text-align: right;\n",
       "    }\n",
       "</style>\n",
       "<table border=\"1\" class=\"dataframe\">\n",
       "  <thead>\n",
       "    <tr style=\"text-align: right;\">\n",
       "      <th></th>\n",
       "      <th>IDOS5</th>\n",
       "      <th>IDOS10</th>\n",
       "      <th>IDOS20</th>\n",
       "      <th>IDOS30</th>\n",
       "      <th>IDOS45</th>\n",
       "      <th>IDOS60</th>\n",
       "      <th>IDOS80</th>\n",
       "      <th>IDOS100</th>\n",
       "    </tr>\n",
       "  </thead>\n",
       "  <tbody>\n",
       "    <tr>\n",
       "      <th>0</th>\n",
       "      <td>1.508937</td>\n",
       "      <td>0.401730</td>\n",
       "      <td>0.779815</td>\n",
       "      <td>0.751856</td>\n",
       "      <td>0.720952</td>\n",
       "      <td>2.427140</td>\n",
       "      <td>2.696792</td>\n",
       "      <td>2.589370</td>\n",
       "    </tr>\n",
       "    <tr>\n",
       "      <th>1</th>\n",
       "      <td>1.459947</td>\n",
       "      <td>1.663176</td>\n",
       "      <td>0.789633</td>\n",
       "      <td>0.720714</td>\n",
       "      <td>0.691494</td>\n",
       "      <td>2.523338</td>\n",
       "      <td>2.460652</td>\n",
       "      <td>2.395784</td>\n",
       "    </tr>\n",
       "    <tr>\n",
       "      <th>2</th>\n",
       "      <td>4.596446</td>\n",
       "      <td>2.427976</td>\n",
       "      <td>0.886806</td>\n",
       "      <td>1.243774</td>\n",
       "      <td>0.883691</td>\n",
       "      <td>0.807930</td>\n",
       "      <td>1.306335</td>\n",
       "      <td>1.329736</td>\n",
       "    </tr>\n",
       "    <tr>\n",
       "      <th>3</th>\n",
       "      <td>5.034001</td>\n",
       "      <td>1.285114</td>\n",
       "      <td>0.671205</td>\n",
       "      <td>0.473023</td>\n",
       "      <td>0.373938</td>\n",
       "      <td>0.718632</td>\n",
       "      <td>0.750556</td>\n",
       "      <td>0.718094</td>\n",
       "    </tr>\n",
       "    <tr>\n",
       "      <th>4</th>\n",
       "      <td>0.619617</td>\n",
       "      <td>0.751808</td>\n",
       "      <td>0.368956</td>\n",
       "      <td>0.257636</td>\n",
       "      <td>0.435798</td>\n",
       "      <td>0.395560</td>\n",
       "      <td>0.407197</td>\n",
       "      <td>0.392861</td>\n",
       "    </tr>\n",
       "  </tbody>\n",
       "</table>\n",
       "</div>"
      ],
      "text/plain": [
       "      IDOS5    IDOS10    IDOS20    IDOS30    IDOS45    IDOS60    IDOS80  \\\n",
       "0  1.508937  0.401730  0.779815  0.751856  0.720952  2.427140  2.696792   \n",
       "1  1.459947  1.663176  0.789633  0.720714  0.691494  2.523338  2.460652   \n",
       "2  4.596446  2.427976  0.886806  1.243774  0.883691  0.807930  1.306335   \n",
       "3  5.034001  1.285114  0.671205  0.473023  0.373938  0.718632  0.750556   \n",
       "4  0.619617  0.751808  0.368956  0.257636  0.435798  0.395560  0.407197   \n",
       "\n",
       "    IDOS100  \n",
       "0  2.589370  \n",
       "1  2.395784  \n",
       "2  1.329736  \n",
       "3  0.718094  \n",
       "4  0.392861  "
      ]
     },
     "execution_count": 5,
     "metadata": {},
     "output_type": "execute_result"
    }
   ],
   "source": [
    "#Load scores\n",
    "df1=pd.read_csv('/Users/Gargi/Desktop/RESEARCH/IP_DATA/INTERNETADS/INTERNETADS_IDOS_CSV.csv')\n",
    "df2=pd.read_csv('/Users/Gargi/Desktop/RESEARCH/IP_DATA/INTERNETADS/INTERNETADS_KNN_CSV.csv')\n",
    "df3=pd.read_csv('/Users/Gargi/Desktop/RESEARCH/IP_DATA/INTERNETADS/INTERNETADS_LIC_CSV.csv')\n",
    "df4=pd.read_csv('/Users/Gargi/Desktop/RESEARCH/IP_DATA/INTERNETADS/INTERNETADS_LOF_CSV.csv')\n",
    "df5=pd.read_csv('/Users/Gargi/Desktop/RESEARCH/IP_DATA/INTERNETADS/INTERNETADS_LOOP_CSV.csv')\n",
    "df6=pd.read_csv('/Users/Gargi/Desktop/RESEARCH/IP_DATA/INTERNETADS/INTERNETADS_SOD_CSV.csv')\n",
    "df1.head()"
   ]
  },
  {
   "cell_type": "code",
   "execution_count": 61,
   "id": "a730f7e6",
   "metadata": {},
   "outputs": [],
   "source": [
    "# Dataset: 1->IDOS, 2->kNN, 3->LIC, 4->LOF, 5->LoOP, 6->SOD\n",
    "# Parameter: 0->5, 1->10, 2->20, 3->30, 4->45, 5->60, 6->80, 7->100\n",
    "Scores=df6.transpose()\n",
    "X=Scores.to_numpy()"
   ]
  },
  {
   "cell_type": "markdown",
   "id": "b6c4ce5b",
   "metadata": {},
   "source": [
    "### Group fairness"
   ]
  },
  {
   "cell_type": "code",
   "execution_count": 7,
   "id": "cb15d299",
   "metadata": {},
   "outputs": [
    {
     "ename": "ZeroDivisionError",
     "evalue": "division by zero",
     "output_type": "error",
     "traceback": [
      "\u001b[1;31m---------------------------------------------------------------------------\u001b[0m",
      "\u001b[1;31mZeroDivisionError\u001b[0m                         Traceback (most recent call last)",
      "Input \u001b[1;32mIn [7]\u001b[0m, in \u001b[0;36m<cell line: 1>\u001b[1;34m()\u001b[0m\n\u001b[1;32m----> 1\u001b[0m \u001b[43mgFairscore\u001b[49m\u001b[43m(\u001b[49m\u001b[43mX\u001b[49m\u001b[43m[\u001b[49m\u001b[38;5;241;43m0\u001b[39;49m\u001b[43m]\u001b[49m\u001b[43m,\u001b[49m\u001b[43mS\u001b[49m\u001b[43m)\u001b[49m\n",
      "File \u001b[1;32m~\\Desktop\\RESEARCH\\CODE\\group_fairness.py:17\u001b[0m, in \u001b[0;36mgFairscore\u001b[1;34m(y, S)\u001b[0m\n\u001b[0;32m     15\u001b[0m     a\u001b[38;5;241m=\u001b[39mS[:,i]\n\u001b[0;32m     16\u001b[0m     H_all\u001b[38;5;241m.\u001b[39mappend(kw_test(y,a))\n\u001b[1;32m---> 17\u001b[0m \u001b[38;5;28;01mreturn\u001b[39;00m \u001b[38;5;28;43msum\u001b[39;49m\u001b[43m(\u001b[49m\u001b[43mH_all\u001b[49m\u001b[43m)\u001b[49m\u001b[38;5;241;43m/\u001b[39;49m\u001b[38;5;28;43mlen\u001b[39;49m\u001b[43m(\u001b[49m\u001b[43mH_all\u001b[49m\u001b[43m)\u001b[49m\n",
      "\u001b[1;31mZeroDivisionError\u001b[0m: division by zero"
     ]
    }
   ],
   "source": [
    "gFairscore(X[0],S)"
   ]
  },
  {
   "cell_type": "code",
   "execution_count": null,
   "id": "c9732280",
   "metadata": {},
   "outputs": [],
   "source": [
    "gFairscore(X[1],S)"
   ]
  },
  {
   "cell_type": "code",
   "execution_count": 9,
   "id": "7d55f9a1",
   "metadata": {},
   "outputs": [
    {
     "data": {
      "text/plain": [
       "55.96284461834148"
      ]
     },
     "execution_count": 9,
     "metadata": {},
     "output_type": "execute_result"
    }
   ],
   "source": [
    "gFairscore(X[2],S)"
   ]
  },
  {
   "cell_type": "code",
   "execution_count": 10,
   "id": "06b1fe52",
   "metadata": {},
   "outputs": [
    {
     "data": {
      "text/plain": [
       "60.985092478977094"
      ]
     },
     "execution_count": 10,
     "metadata": {},
     "output_type": "execute_result"
    }
   ],
   "source": [
    "gFairscore(X[3],S)"
   ]
  },
  {
   "cell_type": "code",
   "execution_count": 11,
   "id": "5fd204aa",
   "metadata": {},
   "outputs": [
    {
     "data": {
      "text/plain": [
       "60.84417333987767"
      ]
     },
     "execution_count": 11,
     "metadata": {},
     "output_type": "execute_result"
    }
   ],
   "source": [
    "gFairscore(X[4],S)"
   ]
  },
  {
   "cell_type": "code",
   "execution_count": 12,
   "id": "7dc8953c",
   "metadata": {},
   "outputs": [
    {
     "data": {
      "text/plain": [
       "52.73757945750913"
      ]
     },
     "execution_count": 12,
     "metadata": {},
     "output_type": "execute_result"
    }
   ],
   "source": [
    "gFairscore(X[5],S)"
   ]
  },
  {
   "cell_type": "code",
   "execution_count": 13,
   "id": "4f444bc2",
   "metadata": {},
   "outputs": [
    {
     "data": {
      "text/plain": [
       "55.98325464339905"
      ]
     },
     "execution_count": 13,
     "metadata": {},
     "output_type": "execute_result"
    }
   ],
   "source": [
    "gFairscore(X[6],S)"
   ]
  },
  {
   "cell_type": "code",
   "execution_count": 14,
   "id": "f0ef37a5",
   "metadata": {},
   "outputs": [
    {
     "data": {
      "text/plain": [
       "54.23981064146392"
      ]
     },
     "execution_count": 14,
     "metadata": {},
     "output_type": "execute_result"
    }
   ],
   "source": [
    "gFairscore(X[7],S)"
   ]
  },
  {
   "cell_type": "markdown",
   "id": "33e5522d",
   "metadata": {},
   "source": [
    "### Individual fairness"
   ]
  },
  {
   "cell_type": "code",
   "execution_count": 15,
   "id": "715a0e70",
   "metadata": {},
   "outputs": [
    {
     "data": {
      "text/plain": [
       "62809130.09815795"
      ]
     },
     "execution_count": 15,
     "metadata": {},
     "output_type": "execute_result"
    }
   ],
   "source": [
    "iFairscore(X[0], df_ns)"
   ]
  },
  {
   "cell_type": "code",
   "execution_count": 16,
   "id": "4e5dadbf",
   "metadata": {},
   "outputs": [
    {
     "ename": "KeyboardInterrupt",
     "evalue": "",
     "output_type": "error",
     "traceback": [
      "\u001b[1;31m---------------------------------------------------------------------------\u001b[0m",
      "\u001b[1;31mKeyboardInterrupt\u001b[0m                         Traceback (most recent call last)",
      "Input \u001b[1;32mIn [16]\u001b[0m, in \u001b[0;36m<cell line: 1>\u001b[1;34m()\u001b[0m\n\u001b[1;32m----> 1\u001b[0m \u001b[43miFairscore\u001b[49m\u001b[43m(\u001b[49m\u001b[43mX\u001b[49m\u001b[43m[\u001b[49m\u001b[38;5;241;43m1\u001b[39;49m\u001b[43m]\u001b[49m\u001b[43m,\u001b[49m\u001b[43m \u001b[49m\u001b[43mdf_ns\u001b[49m\u001b[43m)\u001b[49m\n",
      "File \u001b[1;32m~\\Desktop\\RESEARCH\\CODE\\individual_fairness.py:12\u001b[0m, in \u001b[0;36miFairscore\u001b[1;34m(y, X)\u001b[0m\n\u001b[0;32m     11\u001b[0m \u001b[38;5;28;01mdef\u001b[39;00m \u001b[38;5;21miFairscore\u001b[39m(y, X):\n\u001b[1;32m---> 12\u001b[0m     x_pair \u001b[38;5;241m=\u001b[39m \u001b[43meuclidean_distances\u001b[49m\u001b[43m(\u001b[49m\u001b[43mX\u001b[49m\u001b[43m,\u001b[49m\u001b[43m \u001b[49m\u001b[43mX\u001b[49m\u001b[43m)\u001b[49m\n\u001b[0;32m     13\u001b[0m     r \u001b[38;5;241m=\u001b[39m rankdata(y)\n\u001b[0;32m     14\u001b[0m     y_mat \u001b[38;5;241m=\u001b[39m np\u001b[38;5;241m.\u001b[39mzeros((\u001b[38;5;28mlen\u001b[39m(y),\u001b[38;5;28mlen\u001b[39m(y)))\n",
      "File \u001b[1;32mC:\\Anaconda\\envs\\Fairness_ODE\\lib\\site-packages\\sklearn\\metrics\\pairwise.py:330\u001b[0m, in \u001b[0;36meuclidean_distances\u001b[1;34m(X, Y, Y_norm_squared, squared, X_norm_squared)\u001b[0m\n\u001b[0;32m    324\u001b[0m     \u001b[38;5;28;01mif\u001b[39;00m Y_norm_squared\u001b[38;5;241m.\u001b[39mshape \u001b[38;5;241m!=\u001b[39m (\u001b[38;5;241m1\u001b[39m, Y\u001b[38;5;241m.\u001b[39mshape[\u001b[38;5;241m0\u001b[39m]):\n\u001b[0;32m    325\u001b[0m         \u001b[38;5;28;01mraise\u001b[39;00m \u001b[38;5;167;01mValueError\u001b[39;00m(\n\u001b[0;32m    326\u001b[0m             \u001b[38;5;124mf\u001b[39m\u001b[38;5;124m\"\u001b[39m\u001b[38;5;124mIncompatible dimensions for Y of shape \u001b[39m\u001b[38;5;132;01m{\u001b[39;00mY\u001b[38;5;241m.\u001b[39mshape\u001b[38;5;132;01m}\u001b[39;00m\u001b[38;5;124m and \u001b[39m\u001b[38;5;124m\"\u001b[39m\n\u001b[0;32m    327\u001b[0m             \u001b[38;5;124mf\u001b[39m\u001b[38;5;124m\"\u001b[39m\u001b[38;5;124mY_norm_squared of shape \u001b[39m\u001b[38;5;132;01m{\u001b[39;00moriginal_shape\u001b[38;5;132;01m}\u001b[39;00m\u001b[38;5;124m.\u001b[39m\u001b[38;5;124m\"\u001b[39m\n\u001b[0;32m    328\u001b[0m         )\n\u001b[1;32m--> 330\u001b[0m \u001b[38;5;28;01mreturn\u001b[39;00m \u001b[43m_euclidean_distances\u001b[49m\u001b[43m(\u001b[49m\u001b[43mX\u001b[49m\u001b[43m,\u001b[49m\u001b[43m \u001b[49m\u001b[43mY\u001b[49m\u001b[43m,\u001b[49m\u001b[43m \u001b[49m\u001b[43mX_norm_squared\u001b[49m\u001b[43m,\u001b[49m\u001b[43m \u001b[49m\u001b[43mY_norm_squared\u001b[49m\u001b[43m,\u001b[49m\u001b[43m \u001b[49m\u001b[43msquared\u001b[49m\u001b[43m)\u001b[49m\n",
      "File \u001b[1;32mC:\\Anaconda\\envs\\Fairness_ODE\\lib\\site-packages\\sklearn\\metrics\\pairwise.py:372\u001b[0m, in \u001b[0;36m_euclidean_distances\u001b[1;34m(X, Y, X_norm_squared, Y_norm_squared, squared)\u001b[0m\n\u001b[0;32m    369\u001b[0m \u001b[38;5;28;01melse\u001b[39;00m:\n\u001b[0;32m    370\u001b[0m     \u001b[38;5;66;03m# if dtype is already float64, no need to chunk and upcast\u001b[39;00m\n\u001b[0;32m    371\u001b[0m     distances \u001b[38;5;241m=\u001b[39m \u001b[38;5;241m-\u001b[39m\u001b[38;5;241m2\u001b[39m \u001b[38;5;241m*\u001b[39m safe_sparse_dot(X, Y\u001b[38;5;241m.\u001b[39mT, dense_output\u001b[38;5;241m=\u001b[39m\u001b[38;5;28;01mTrue\u001b[39;00m)\n\u001b[1;32m--> 372\u001b[0m     distances \u001b[38;5;241m+\u001b[39m\u001b[38;5;241m=\u001b[39m XX\n\u001b[0;32m    373\u001b[0m     distances \u001b[38;5;241m+\u001b[39m\u001b[38;5;241m=\u001b[39m YY\n\u001b[0;32m    374\u001b[0m np\u001b[38;5;241m.\u001b[39mmaximum(distances, \u001b[38;5;241m0\u001b[39m, out\u001b[38;5;241m=\u001b[39mdistances)\n",
      "\u001b[1;31mKeyboardInterrupt\u001b[0m: "
     ]
    }
   ],
   "source": [
    "iFairscore(X[1], df_ns)"
   ]
  },
  {
   "cell_type": "code",
   "execution_count": null,
   "id": "41d1d70d",
   "metadata": {},
   "outputs": [],
   "source": [
    "iFairscore(X[2], df_ns)"
   ]
  },
  {
   "cell_type": "code",
   "execution_count": null,
   "id": "de03002d",
   "metadata": {},
   "outputs": [],
   "source": [
    "iFairscore(X[3], df_ns)"
   ]
  },
  {
   "cell_type": "code",
   "execution_count": null,
   "id": "5e4611cc",
   "metadata": {},
   "outputs": [],
   "source": [
    "iFairscore(X[4], df_ns)"
   ]
  },
  {
   "cell_type": "code",
   "execution_count": null,
   "id": "a0475814",
   "metadata": {},
   "outputs": [],
   "source": [
    "iFairscore(X[5], df_ns)"
   ]
  },
  {
   "cell_type": "code",
   "execution_count": null,
   "id": "797ac3ad",
   "metadata": {},
   "outputs": [],
   "source": [
    "iFairscore(X[6], df_ns)"
   ]
  },
  {
   "cell_type": "code",
   "execution_count": null,
   "id": "b5e731b4",
   "metadata": {},
   "outputs": [],
   "source": [
    "iFairscore(X[7], df_ns)"
   ]
  },
  {
   "cell_type": "markdown",
   "id": "401af296",
   "metadata": {},
   "source": [
    "### IF complete data"
   ]
  },
  {
   "cell_type": "code",
   "execution_count": 62,
   "id": "a68b7758",
   "metadata": {},
   "outputs": [],
   "source": [
    "df=pd.read_csv('/Users/Gargi/Desktop/RESEARCH/DATA/InternetAds.csv')\n",
    "df.drop('Class', axis=1, inplace=True)"
   ]
  },
  {
   "cell_type": "code",
   "execution_count": 63,
   "id": "c9f3a57e",
   "metadata": {},
   "outputs": [
    {
     "name": "stdout",
     "output_type": "stream",
     "text": [
      "IF ROC:0.569, precision @ rank n:0.2584\n"
     ]
    },
    {
     "data": {
      "text/plain": [
       "600.3933048013731"
      ]
     },
     "execution_count": 63,
     "metadata": {},
     "output_type": "execute_result"
    }
   ],
   "source": [
    "evaluate_print(\"IF\", T, X[0])\n",
    "iFairscore(X[0], df)"
   ]
  },
  {
   "cell_type": "code",
   "execution_count": 64,
   "id": "86e65b04",
   "metadata": {},
   "outputs": [
    {
     "name": "stdout",
     "output_type": "stream",
     "text": [
      "IF ROC:0.5538, precision @ rank n:0.2337\n"
     ]
    },
    {
     "data": {
      "text/plain": [
       "566.929300619065"
      ]
     },
     "execution_count": 64,
     "metadata": {},
     "output_type": "execute_result"
    }
   ],
   "source": [
    "evaluate_print(\"IF\", T, X[1])\n",
    "iFairscore(X[1], df)"
   ]
  },
  {
   "cell_type": "code",
   "execution_count": 65,
   "id": "f2d866f6",
   "metadata": {},
   "outputs": [
    {
     "name": "stdout",
     "output_type": "stream",
     "text": [
      "IF ROC:0.5703, precision @ rank n:0.2609\n"
     ]
    },
    {
     "data": {
      "text/plain": [
       "494.28432115928746"
      ]
     },
     "execution_count": 65,
     "metadata": {},
     "output_type": "execute_result"
    }
   ],
   "source": [
    "evaluate_print(\"IF\", T, X[2])\n",
    "iFairscore(X[2], df)"
   ]
  },
  {
   "cell_type": "code",
   "execution_count": 66,
   "id": "e9bf0c35",
   "metadata": {},
   "outputs": [
    {
     "name": "stdout",
     "output_type": "stream",
     "text": [
      "IF ROC:0.5481, precision @ rank n:0.2717\n"
     ]
    },
    {
     "data": {
      "text/plain": [
       "465.8132686918347"
      ]
     },
     "execution_count": 66,
     "metadata": {},
     "output_type": "execute_result"
    }
   ],
   "source": [
    "evaluate_print(\"IF\", T, X[3])\n",
    "iFairscore(X[3], df)"
   ]
  },
  {
   "cell_type": "code",
   "execution_count": 67,
   "id": "c8529439",
   "metadata": {},
   "outputs": [
    {
     "name": "stdout",
     "output_type": "stream",
     "text": [
      "IF ROC:0.537, precision @ rank n:0.2745\n"
     ]
    },
    {
     "data": {
      "text/plain": [
       "440.20702658975415"
      ]
     },
     "execution_count": 67,
     "metadata": {},
     "output_type": "execute_result"
    }
   ],
   "source": [
    "evaluate_print(\"IF\", T, X[4])\n",
    "iFairscore(X[4], df)"
   ]
  },
  {
   "cell_type": "code",
   "execution_count": 68,
   "id": "cbf59a2b",
   "metadata": {},
   "outputs": [
    {
     "name": "stdout",
     "output_type": "stream",
     "text": [
      "IF ROC:0.5241, precision @ rank n:0.2452\n"
     ]
    },
    {
     "data": {
      "text/plain": [
       "443.4275220042684"
      ]
     },
     "execution_count": 68,
     "metadata": {},
     "output_type": "execute_result"
    }
   ],
   "source": [
    "evaluate_print(\"IF\", T, X[5])\n",
    "iFairscore(X[5], df)"
   ]
  },
  {
   "cell_type": "code",
   "execution_count": 69,
   "id": "9b95f57d",
   "metadata": {},
   "outputs": [
    {
     "name": "stdout",
     "output_type": "stream",
     "text": [
      "IF ROC:0.5379, precision @ rank n:0.263\n"
     ]
    },
    {
     "data": {
      "text/plain": [
       "409.215614592509"
      ]
     },
     "execution_count": 69,
     "metadata": {},
     "output_type": "execute_result"
    }
   ],
   "source": [
    "evaluate_print(\"IF\", T, X[6])\n",
    "iFairscore(X[6], df)"
   ]
  },
  {
   "cell_type": "code",
   "execution_count": 70,
   "id": "28a2e98d",
   "metadata": {},
   "outputs": [
    {
     "name": "stdout",
     "output_type": "stream",
     "text": [
      "IF ROC:0.5676, precision @ rank n:0.2609\n"
     ]
    },
    {
     "data": {
      "text/plain": [
       "396.61734359702893"
      ]
     },
     "execution_count": 70,
     "metadata": {},
     "output_type": "execute_result"
    }
   ],
   "source": [
    "evaluate_print(\"IF\", T, X[7])\n",
    "iFairscore(X[7], df)"
   ]
  },
  {
   "cell_type": "markdown",
   "id": "4281492a",
   "metadata": {},
   "source": [
    "### IF with Target"
   ]
  },
  {
   "cell_type": "code",
   "execution_count": 29,
   "id": "1a76a220",
   "metadata": {},
   "outputs": [
    {
     "data": {
      "text/plain": [
       "300.7290144499452"
      ]
     },
     "execution_count": 29,
     "metadata": {},
     "output_type": "execute_result"
    }
   ],
   "source": [
    "iFairscore(T, df)"
   ]
  },
  {
   "cell_type": "code",
   "execution_count": 30,
   "id": "5c390850",
   "metadata": {},
   "outputs": [
    {
     "data": {
      "text/plain": [
       "300.7290144499452"
      ]
     },
     "execution_count": 30,
     "metadata": {},
     "output_type": "execute_result"
    }
   ],
   "source": [
    "iFairscore(T, df_ns)"
   ]
  },
  {
   "cell_type": "code",
   "execution_count": null,
   "id": "d72fb450",
   "metadata": {},
   "outputs": [],
   "source": []
  }
 ],
 "metadata": {
  "kernelspec": {
   "display_name": "Python 3 (ipykernel)",
   "language": "python",
   "name": "python3"
  },
  "language_info": {
   "codemirror_mode": {
    "name": "ipython",
    "version": 3
   },
   "file_extension": ".py",
   "mimetype": "text/x-python",
   "name": "python",
   "nbconvert_exporter": "python",
   "pygments_lexer": "ipython3",
   "version": "3.8.13"
  }
 },
 "nbformat": 4,
 "nbformat_minor": 5
}
