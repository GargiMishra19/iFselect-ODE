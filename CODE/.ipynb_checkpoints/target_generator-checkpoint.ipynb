{
 "cells": [
  {
   "cell_type": "code",
   "execution_count": null,
   "id": "9944c2ab",
   "metadata": {},
   "outputs": [],
   "source": [
    "import numpy as np\n",
    "import pandas as pd\n",
    "from pyod.models.combination import average\n",
    "from pyod.models.combination import maximization\n",
    "from pyod.models.combination import aom\n",
    "from sklearn.utils.extmath import weighted_mode\n",
    "\n",
    "\n",
    "def average(Y):\n",
    "    avrg=average(Y.to_numpy())\n",
    "    return avrg\n",
    "\n",
    "\n",
    "def maximization(Y):\n",
    "    maxi=maximization(Y.to_numpy())\n",
    "    return maxi\n",
    "\n",
    "\n",
    "def aom(Y, n_bucket):\n",
    "    t4=aom(Y.to_numpy(), n_buckets=n_bucket)\n",
    "    return t4\n",
    "\n",
    "\n",
    "def majority_vote(Y, n_classes=2, weights=None):\n",
    "    scores=Y.to_numpy()\n",
    "    n_samples, n_estimators = scores.shape[0], scores.shape[1]\n",
    "    vote_results = np.zeros([n_samples, ])\n",
    "    weights = np.ones([1, n_estimators])\n",
    "\n",
    "    for i in range(n_samples):\n",
    "        vote_results[i] = weighted_mode(scores[i, :], weights)[0][0]\n",
    "\n",
    "    return vote_results.ravel()"
   ]
  }
 ],
 "metadata": {
  "kernelspec": {
   "display_name": "Python 3 (ipykernel)",
   "language": "python",
   "name": "python3"
  },
  "language_info": {
   "codemirror_mode": {
    "name": "ipython",
    "version": 3
   },
   "file_extension": ".py",
   "mimetype": "text/x-python",
   "name": "python",
   "nbconvert_exporter": "python",
   "pygments_lexer": "ipython3",
   "version": "3.8.13"
  }
 },
 "nbformat": 4,
 "nbformat_minor": 5
}
