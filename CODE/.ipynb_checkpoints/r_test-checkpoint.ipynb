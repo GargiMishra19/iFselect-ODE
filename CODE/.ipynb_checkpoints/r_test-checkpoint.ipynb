{
 "cells": [
  {
   "cell_type": "code",
   "execution_count": 27,
   "id": "eb1e0ee4",
   "metadata": {},
   "outputs": [],
   "source": [
    "\n",
    "# Author: Akanksha Mukhriya and Rajeev Kumar\n",
    "\n",
    "# Ensemble member selection \n",
    "\n",
    "# Input:\n",
    "# Score_List_SET - matrix of outlier scorelists of the candidate base detectors\n",
    "# DATA_LABELS - Actual groud truth\n",
    "# d - drop rate\n",
    "# t - threshold percentage for deciding |top-k| by each detector\n",
    "# Combination Technique - In this work, we use Average for combination of scores\n",
    "# ht - method_types\n",
    "# k_p - parameter range\n",
    "# v_or_b  - ACC: V*-Select(2) / Boost*-Select(3)\n",
    "# div_num - DIV: V*-Select(5) / Boost*-Select(6)\n",
    "# th_m ((as given in the paper))\n",
    "# l_or_z - Normalization: Linear-scaling(1) / Z-score normalization(2)\n",
    "# th_eq - Equation no (as given in the paper)\n",
    "\n",
    "\n",
    "# Output:\n",
    "# Selected_AnD - Indices of selected detectors for an ensemble\n",
    "# ROC_AUC - ROC AUC performance of selected ensemble AnD\n",
    "\n",
    "\n",
    "\n",
    "source(\"Current_prediction.R\")\n",
    "source(\"Convert_binary.R\")\n",
    "source(\"Sort_Descending.R\")\n",
    "source(\"Selected_en.R\")\n",
    "source(\"Sel_en2.R\")\n",
    "source(\"Roc_Auc.R\")\n",
    "source(\"L_Norm.R\")\n",
    "source(\"Z_Norm.R\")\n",
    "source(\"Vertical_Select.R\")\n",
    "source(\"Boosting.R\")\n",
    "source(\"Boost_Select.R\")\n",
    "source(\"ACC_DIV_Scores.R\")\n",
    "source(\"Th_Acc.R\")\n",
    "source(\"AnD_SELECT.R\")\n",
    "\n",
    "# ..........Rather than executing base detectors using ELKI-framework, you can use our scorelist as given in Score_Lists_Set.Zip in csv form.\n",
    "# ...... Importing SCORE_LISTS for all datasets in the current R-workspace\n",
    "# ..........Naming format for all SCORE_LIST_SET.csv -- Dataset_name(as per paper)_SCORE_LIST_SET.csv\n",
    "# ..........Example for importing all 22 scorelists of SpamBase dataset named as - \"SpamBase_SCORE_LIST_SET.csv\" in Data.zip\n",
    "\n",
    " SpamBase_SCORE_LIST_SET <- as.matrix(read.csv(\"C:/Users/Gargi/Desktop/RESEARCH/IP_DATA/WIKI4HE/Wiki4HE_SCORE.csv\"), header = TRUE)\n",
    "# as we use total 22 candidate detectors: 1-11 --- Average k-NN and 12-22 --- LOF\n",
    " SpamBase_DATA_LABELS <- as.matrix(read.csv(\"C:/Users/Gargi/Desktop/RESEARCH/IP_DATA/WIKI4HE/Wiki4HE_LABEL.csv\"), header = TRUE)\n",
    "\n",
    "#...........................................................................\n",
    "#...........................................................................\n",
    "\n"
   ]
  },
  {
   "cell_type": "code",
   "execution_count": 28,
   "id": "2e95b868",
   "metadata": {},
   "outputs": [],
   "source": [
    "\n",
    "# Load SCORE_LIST_SET of all candidate detectors from Score_List_Set.zip, \n",
    "# or run LOF and Avg k-NN detectors separately using ELKI-framework\n",
    "\n",
    "# Load \"DATA_LABLES\" from Data_Labels.zip. Although the full data files (.csv) also contains labels \n",
    "# in their last columns, but these CSVs only contain Lables, in the form of: outlier- 1, and inlier- 0\n",
    "\n",
    "# These two are MANDATORY INPUTS to exeute code file from Main.R, \n",
    "# for other inputs, default values as used in Main.R (this file) will be used \n",
    "SCORE_LIST_SET = as.matrix(SpamBase_SCORE_LIST_SET) # after loading ALOI_SCORE_LIST_SET from Score_Lists_Set.zip\n",
    "DATA_LABELS = as.matrix(SpamBase_DATA_LABELS) # from Data_Labels.zip\n",
    "\n",
    "\n",
    "SCORE_LIST_SET_IND = as.matrix(Sort_Descending(SCORE_LIST_SET))\n",
    "SCORE_LIST_SET_NORM = as.matrix(Z_Norm(SCORE_LIST_SET))\n",
    "\n",
    "\n",
    "points = dim(SCORE_LIST_SET)[1]\n",
    "members = dim(SCORE_LIST_SET)[2]\n",
    "out_count2 = sum(DATA_LABELS[,1])\n",
    "\n"
   ]
  },
  {
   "cell_type": "code",
   "execution_count": 29,
   "id": "a9bb2a78",
   "metadata": {},
   "outputs": [
    {
     "data": {
      "text/html": [
       "0.5991"
      ],
      "text/latex": [
       "0.5991"
      ],
      "text/markdown": [
       "0.5991"
      ],
      "text/plain": [
       "[1] 0.5991"
      ]
     },
     "metadata": {},
     "output_type": "display_data"
    }
   ],
   "source": [
    "# V-select ...................................................\n",
    "\n",
    "Selected_Vertical = as.matrix(Vertical_Select(SCORE_LIST_SET_NORM, SCORE_LIST_SET_IND))\n",
    "\n",
    "EN_Vertical = as.matrix(Selected_en(Selected_Vertical, SCORE_LIST_SET_NORM))\n",
    "EN_Vertical_Avg = as.matrix(Current_prediction(EN_Vertical))\n",
    "En_Vertical_Rocauc = as.numeric(Roc_Auc(EN_Vertical_Avg, DATA_LABELS))\n",
    "round(En_Vertical_Rocauc,4)\n",
    "\n",
    "\n"
   ]
  },
  {
   "cell_type": "code",
   "execution_count": 30,
   "id": "aaf88abf",
   "metadata": {},
   "outputs": [
    {
     "data": {
      "text/html": [
       "0.5887"
      ],
      "text/latex": [
       "0.5887"
      ],
      "text/markdown": [
       "0.5887"
      ],
      "text/plain": [
       "[1] 0.5887"
      ]
     },
     "metadata": {},
     "output_type": "display_data"
    }
   ],
   "source": [
    "# Boost-select ....................................................\n",
    "\n",
    "t = 0.05    # for Boost-select\n",
    "d =  0.25   # for Boost-select\n",
    "\n",
    "Selected_Boost = as.matrix(Boost_Select(SCORE_LIST_SET_NORM, SCORE_LIST_SET_IND, t, d))\n",
    "\n",
    "EN_Boost = as.matrix(Selected_en(Selected_Boost, SCORE_LIST_SET_NORM))\n",
    "EN_Boost_Avg = as.matrix(Current_prediction(EN_Boost))\n",
    "En_Boost_Rocauc = as.numeric(Roc_Auc(EN_Boost_Avg, DATA_LABELS))\n",
    "round(En_Boost_Rocauc,4)\n",
    "\n"
   ]
  },
  {
   "cell_type": "code",
   "execution_count": 31,
   "id": "99c73802",
   "metadata": {},
   "outputs": [],
   "source": [
    "# AnD ........................................................................\n",
    "\n",
    "k = out_count2\n",
    "\n",
    "ACC_DIV_temp = as.matrix(ACC_DIV_Scores(SCORE_LIST_SET_NORM, SCORE_LIST_SET_IND, k, t))\n",
    "ACC_temp = as.matrix(ACC_DIV_temp[,1:3])\n",
    "DIV_temp = as.matrix(ACC_DIV_temp[,4:7])\n",
    "\n",
    "acc_count = dim(ACC_temp)[2]\n",
    "div_count = dim(DIV_temp)[2]\n",
    "total_scores = acc_count + div_count\n",
    "\n",
    "Final_Scores = matrix(data=0, nrow = members, ncol=total_scores)\n",
    "Final_Scores[,1:acc_count] = ACC_temp[,]\n",
    "Final_Scores[,(acc_count+1):total_scores] = DIV_temp[,]\n",
    "\n",
    "k_p = as.matrix(cbind(5,30,60,100))\n",
    "hm = dim(k_p)[2]\n",
    "ht = members/hm\n",
    "\n",
    "l_or_z=1\n",
    "\n",
    "if(l_or_z==1)\n",
    "{\n",
    "  Final_Scores_Norm1 = as.matrix(L_Norm(Final_Scores))  \n",
    "}else{\n",
    "  Final_Scores_Norm1 = as.matrix(Z_Norm(Final_Scores))   \n",
    "}\n",
    "\n"
   ]
  },
  {
   "cell_type": "code",
   "execution_count": 37,
   "id": "f05629d9",
   "metadata": {},
   "outputs": [
    {
     "data": {
      "text/html": [
       "<table>\n",
       "<tbody>\n",
       "\t<tr><td> 5</td></tr>\n",
       "\t<tr><td> 9</td></tr>\n",
       "\t<tr><td>16</td></tr>\n",
       "\t<tr><td>20</td></tr>\n",
       "\t<tr><td>24</td></tr>\n",
       "</tbody>\n",
       "</table>\n"
      ],
      "text/latex": [
       "\\begin{tabular}{l}\n",
       "\t  5\\\\\n",
       "\t  9\\\\\n",
       "\t 16\\\\\n",
       "\t 20\\\\\n",
       "\t 24\\\\\n",
       "\\end{tabular}\n"
      ],
      "text/markdown": [
       "\n",
       "|  5 |\n",
       "|  9 |\n",
       "| 16 |\n",
       "| 20 |\n",
       "| 24 |\n",
       "\n"
      ],
      "text/plain": [
       "     [,1]\n",
       "[1,]  5  \n",
       "[2,]  9  \n",
       "[3,] 16  \n",
       "[4,] 20  \n",
       "[5,] 24  "
      ]
     },
     "metadata": {},
     "output_type": "display_data"
    },
    {
     "data": {
      "text/html": [
       "0.6001"
      ],
      "text/latex": [
       "0.6001"
      ],
      "text/markdown": [
       "0.6001"
      ],
      "text/plain": [
       "[1] 0.6001"
      ]
     },
     "metadata": {},
     "output_type": "display_data"
    }
   ],
   "source": [
    "# For-th_1 ...........................................................\n",
    "\n",
    "v_or_b = 2        # ACC: V*-Select(2) / Boost*-Select(3)\n",
    "div_num = 6       # DIV: V*-Select(5) / Boost*-Select(6)\n",
    "th_m = 0.7        # (as given in the paper) - 0.7 (70%) / 0.8(80%)\n",
    "l_or_z = 1        # Normalization: Linear-scaling(1) / Z-score normalization(2)\n",
    "th_eq = 1         # Equation no (as given in the paper) - 1/2/3\n",
    "\n",
    "\n",
    "Selected_AnD = as.matrix(AnD_SELECT(Final_Scores_Norm1, ht, k_p, v_or_b, div_num, th_m, l_or_z, th_eq))\n",
    "Selected_AnD\n",
    "Selected_AnD_t = as.matrix(t(Selected_AnD))\n",
    "EN_AnD_Avg = as.matrix(Sel_en2(Selected_AnD_t, SCORE_LIST_SET_NORM))\n",
    "En_AnD_Rocauc = as.numeric(Roc_Auc(EN_AnD_Avg, DATA_LABELS))\n",
    "round(En_AnD_Rocauc,4)\n",
    "\n",
    "\n"
   ]
  },
  {
   "cell_type": "code",
   "execution_count": 38,
   "id": "e661ad38",
   "metadata": {},
   "outputs": [
    {
     "data": {
      "text/html": [
       "<table>\n",
       "<tbody>\n",
       "\t<tr><td> 5</td></tr>\n",
       "\t<tr><td> 9</td></tr>\n",
       "\t<tr><td>16</td></tr>\n",
       "\t<tr><td>20</td></tr>\n",
       "\t<tr><td>24</td></tr>\n",
       "</tbody>\n",
       "</table>\n"
      ],
      "text/latex": [
       "\\begin{tabular}{l}\n",
       "\t  5\\\\\n",
       "\t  9\\\\\n",
       "\t 16\\\\\n",
       "\t 20\\\\\n",
       "\t 24\\\\\n",
       "\\end{tabular}\n"
      ],
      "text/markdown": [
       "\n",
       "|  5 |\n",
       "|  9 |\n",
       "| 16 |\n",
       "| 20 |\n",
       "| 24 |\n",
       "\n"
      ],
      "text/plain": [
       "     [,1]\n",
       "[1,]  5  \n",
       "[2,]  9  \n",
       "[3,] 16  \n",
       "[4,] 20  \n",
       "[5,] 24  "
      ]
     },
     "metadata": {},
     "output_type": "display_data"
    },
    {
     "data": {
      "text/html": [
       "0.6001"
      ],
      "text/latex": [
       "0.6001"
      ],
      "text/markdown": [
       "0.6001"
      ],
      "text/plain": [
       "[1] 0.6001"
      ]
     },
     "metadata": {},
     "output_type": "display_data"
    }
   ],
   "source": [
    "# For-th_2 ...........................................................\n",
    "\n",
    "v_or_b = 2        # ACC: V*-Select(2) / Boost*-Select(3)\n",
    "div_num = 6       # DIV: V*-Select(5) / Boost*-Select(6)\n",
    "th_m = 0.7        # (as given in the paper) - 0.7 (70%) / 0.8(80%)\n",
    "l_or_z = 1        # Normalization: Linear-scaling(1) / Z-score normalization(2)\n",
    "th_eq = 2         # Equation no (as given in the paper) - 1/2/3\n",
    "\n",
    "\n",
    "Selected_AnD = as.matrix(AnD_SELECT(Final_Scores_Norm1, ht, k_p, v_or_b, div_num, th_m, l_or_z, th_eq))\n",
    "Selected_AnD\n",
    "Selected_AnD_t = as.matrix(t(Selected_AnD))\n",
    "EN_AnD_Avg = as.matrix(Sel_en2(Selected_AnD_t, SCORE_LIST_SET_NORM))\n",
    "En_AnD_Rocauc = as.numeric(Roc_Auc(EN_AnD_Avg, DATA_LABELS))\n",
    "round(En_AnD_Rocauc,4)\n",
    "\n",
    "\n"
   ]
  },
  {
   "cell_type": "code",
   "execution_count": null,
   "id": "7eec9d1e",
   "metadata": {},
   "outputs": [],
   "source": []
  }
 ],
 "metadata": {
  "kernelspec": {
   "display_name": "R",
   "language": "R",
   "name": "ir"
  },
  "language_info": {
   "codemirror_mode": "r",
   "file_extension": ".r",
   "mimetype": "text/x-r-source",
   "name": "R",
   "pygments_lexer": "r",
   "version": "3.6.1"
  }
 },
 "nbformat": 4,
 "nbformat_minor": 5
}
