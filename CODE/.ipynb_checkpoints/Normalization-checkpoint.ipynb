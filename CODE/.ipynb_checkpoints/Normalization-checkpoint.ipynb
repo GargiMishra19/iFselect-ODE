{
 "cells": [
  {
   "cell_type": "code",
   "execution_count": null,
   "id": "63475f73",
   "metadata": {},
   "outputs": [],
   "source": [
    "import pandas as pd\n",
    "\n",
    "def linear_scaling(Y):\n",
    "    cols = list(Y.columns)\n",
    "    Y_norm=pd.DataFrame()\n",
    "    for col in cols:\n",
    "        col_norm = col + '_norm'\n",
    "        Y_norm[col_norm] = (Y[col] - Y[col].min())/(Y[col].max()-Y[col].min())\n",
    "    return Y_norm"
   ]
  }
 ],
 "metadata": {
  "kernelspec": {
   "display_name": "Python 3 (ipykernel)",
   "language": "python",
   "name": "python3"
  },
  "language_info": {
   "codemirror_mode": {
    "name": "ipython",
    "version": 3
   },
   "file_extension": ".py",
   "mimetype": "text/x-python",
   "name": "python",
   "nbconvert_exporter": "python",
   "pygments_lexer": "ipython3",
   "version": "3.8.13"
  }
 },
 "nbformat": 4,
 "nbformat_minor": 5
}
